{
 "cells": [
  {
   "cell_type": "code",
   "execution_count": null,
   "id": "23a2c01a-1b6b-4d55-a2e8-3abe365b8a67",
   "metadata": {
    "id": "23a2c01a-1b6b-4d55-a2e8-3abe365b8a67"
   },
   "outputs": [],
   "source": [
    "#import the Library\n",
    "\n",
    "import pandas as pd\n",
    "import numpy as np\n",
    "import matplotlib.pyplot as plt\n",
    "import seaborn as sns\n",
    "\n",
    "from scipy import stats\n",
    "from scipy.stats import norm, skew\n",
    "\n",
    "from sklearn.preprocessing import RobustScaler, StandardScaler\n",
    "from sklearn.model_selection import train_test_split, GridSearchCV, cross_val_score\n",
    "from sklearn.metrics import roc_auc_score, roc_curve, classification_report"
   ]
  },
  {
   "cell_type": "markdown",
   "id": "abe8df0d-aaf5-483e-b286-f9ad7cfcaf28",
   "metadata": {
    "id": "abe8df0d-aaf5-483e-b286-f9ad7cfcaf28"
   },
   "source": [
    "# Exploratory Data"
   ]
  },
  {
   "cell_type": "code",
   "execution_count": null,
   "id": "eae705a0-bba3-4693-b928-0de243c2d4df",
   "metadata": {
    "id": "eae705a0-bba3-4693-b928-0de243c2d4df"
   },
   "outputs": [],
   "source": [
    "dataset = pd.read_csv(\"diabetes.csv\")"
   ]
  },
  {
   "cell_type": "markdown",
   "id": "3fcda053-4e83-4862-9931-31100635c1b0",
   "metadata": {
    "id": "3fcda053-4e83-4862-9931-31100635c1b0"
   },
   "source": [
    "## Information of Dataset"
   ]
  },
  {
   "cell_type": "code",
   "execution_count": null,
   "id": "32f2cd3b-d071-4534-81ed-ab2576c1ae94",
   "metadata": {
    "colab": {
     "base_uri": "https://localhost:8080/"
    },
    "id": "32f2cd3b-d071-4534-81ed-ab2576c1ae94",
    "outputId": "45dedd40-16ff-4dd5-e74d-47563088a76c"
   },
   "outputs": [],
   "source": [
    "dataset.info()"
   ]
  },
  {
   "cell_type": "code",
   "execution_count": null,
   "id": "9e0fa880-c07f-49e9-9b3e-e0412434bd47",
   "metadata": {
    "colab": {
     "base_uri": "https://localhost:8080/",
     "height": 206
    },
    "id": "9e0fa880-c07f-49e9-9b3e-e0412434bd47",
    "outputId": "617667f1-9f55-4237-b127-1b2b4c634a80"
   },
   "outputs": [],
   "source": [
    "dataset.head(5)"
   ]
  },
  {
   "cell_type": "code",
   "execution_count": null,
   "id": "0413feba-6eaf-4c23-87a3-163b681bc56d",
   "metadata": {
    "colab": {
     "base_uri": "https://localhost:8080/"
    },
    "id": "0413feba-6eaf-4c23-87a3-163b681bc56d",
    "outputId": "69d0bc38-9534-4940-edc0-2e00cbd21010"
   },
   "outputs": [],
   "source": [
    "dataset.shape"
   ]
  },
  {
   "cell_type": "markdown",
   "id": "1fe9cab7-63f8-43cd-90d0-aaf5c75c0f84",
   "metadata": {
    "id": "1fe9cab7-63f8-43cd-90d0-aaf5c75c0f84"
   },
   "source": [
    "## Checking for missing values"
   ]
  },
  {
   "cell_type": "code",
   "execution_count": null,
   "id": "1503cedf-64a4-4995-b0e1-decea87ab1d6",
   "metadata": {
    "colab": {
     "base_uri": "https://localhost:8080/"
    },
    "id": "1503cedf-64a4-4995-b0e1-decea87ab1d6",
    "outputId": "f6a46b65-3a9b-4125-8174-5af08e5fbd3d"
   },
   "outputs": [],
   "source": [
    "missing_values = dataset.isnull().sum()\n",
    "print(\"Missing Values:\")\n",
    "print(missing_values)"
   ]
  },
  {
   "cell_type": "markdown",
   "id": "72024307-6ffc-46d7-a4fa-f4826f44dbb6",
   "metadata": {
    "id": "72024307-6ffc-46d7-a4fa-f4826f44dbb6"
   },
   "source": [
    "## Diabetical and Non-diabetical Persons"
   ]
  },
  {
   "cell_type": "code",
   "execution_count": null,
   "id": "0f61d0ae-6624-4e8e-9cfd-cf026fb3da03",
   "metadata": {
    "colab": {
     "base_uri": "https://localhost:8080/",
     "height": 553
    },
    "id": "0f61d0ae-6624-4e8e-9cfd-cf026fb3da03",
    "outputId": "5eac756a-4c28-4952-eb65-e36ae1879fd3"
   },
   "outputs": [],
   "source": [
    "dataset[\"Outcome\"].value_counts()\n",
    "\n",
    "#percentage distribution of the \"Outcome\"\n",
    "print(100 * dataset[\"Outcome\"].value_counts() / len(dataset))\n",
    "\n",
    "with_diabetes = dataset['Outcome'].value_counts()[1]\n",
    "without_diabetes = dataset['Outcome'].value_counts()[0]\n",
    "print(f\"Patients with Diabetes: {with_diabetes}\\nPatients without Diabetes: {without_diabetes}\")\n",
    "\n",
    "sns.countplot(x=\"Outcome\", data=dataset)"
   ]
  },
  {
   "cell_type": "markdown",
   "id": "9da55cbd-0e3a-40f5-9734-b5b0f63350e6",
   "metadata": {
    "id": "9da55cbd-0e3a-40f5-9734-b5b0f63350e6"
   },
   "source": [
    "## Visualizing pregnancies average outcome"
   ]
  },
  {
   "cell_type": "code",
   "execution_count": null,
   "id": "60633b88-1fe3-447f-92e4-3d9f46b66a07",
   "metadata": {
    "colab": {
     "base_uri": "https://localhost:8080/",
     "height": 542
    },
    "id": "60633b88-1fe3-447f-92e4-3d9f46b66a07",
    "outputId": "852c155f-0068-4eec-c0a6-e1817e8c93c3"
   },
   "outputs": [],
   "source": [
    "plt.figure(figsize=(8,6))\n",
    "sns.countplot(x='Pregnancies', hue='Outcome', data = dataset)\n",
    "plt.show()"
   ]
  },
  {
   "cell_type": "markdown",
   "id": "27fc3b65-4038-4225-a019-40d2b7fd9546",
   "metadata": {
    "id": "27fc3b65-4038-4225-a019-40d2b7fd9546"
   },
   "source": [
    "## Describing data in dataset(mean, std, max)"
   ]
  },
  {
   "cell_type": "code",
   "execution_count": null,
   "id": "0cb2223b-1bf2-45d7-b178-93d54c9ec9b9",
   "metadata": {
    "colab": {
     "base_uri": "https://localhost:8080/",
     "height": 332
    },
    "id": "0cb2223b-1bf2-45d7-b178-93d54c9ec9b9",
    "outputId": "ece00be9-5c13-4de7-ed3f-3f86b2dce1ad"
   },
   "outputs": [],
   "source": [
    "describe = dataset.describe().T\n",
    "describe"
   ]
  },
  {
   "cell_type": "markdown",
   "id": "9d498f6d-c629-41f6-9be8-f45567c753d8",
   "metadata": {
    "id": "9d498f6d-c629-41f6-9be8-f45567c753d8"
   },
   "source": [
    "## Visualizing the distribution of data in each column"
   ]
  },
  {
   "cell_type": "code",
   "execution_count": null,
   "id": "0561e65b-00fa-4395-83e2-b654b6dfcf8d",
   "metadata": {
    "colab": {
     "base_uri": "https://localhost:8080/",
     "height": 607
    },
    "id": "0561e65b-00fa-4395-83e2-b654b6dfcf8d",
    "outputId": "44b5df4e-b430-441a-f27a-13cf06cca82c"
   },
   "outputs": [],
   "source": [
    "plt.figure(figsize=(12, 6))\n",
    "for i, col in enumerate(dataset.columns[:-1]):\n",
    "    plt.subplot(2, 4, i + 1)\n",
    "    sns.histplot(dataset[dataset['Outcome'] == 1][col], kde=True, label='Diabetes', color='blue')\n",
    "    sns.histplot(dataset[dataset['Outcome'] == 0][col], kde=True, label='No Diabetes', color='orange')\n",
    "    plt.title(f\"Distribution of {col}\")\n",
    "    plt.legend()\n",
    "plt.tight_layout()\n",
    "plt.show()"
   ]
  },
  {
   "cell_type": "markdown",
   "id": "fpBOppzl_-e0",
   "metadata": {
    "id": "fpBOppzl_-e0"
   },
   "source": [
    " Dengan melihat plot ini dapat membandingkan sebaran data antara pasien dengan diabetes dan tanpa diabetes untuk setiap fitur. Misalnya, jika melihat \"Distribution of Glucose,\" bagaimana sebaran kadar glukosa berbeda antara dua kelompok pasien."
   ]
  },
  {
   "cell_type": "markdown",
   "id": "42ebb195-57ec-4198-b089-476b40d204fb",
   "metadata": {
    "id": "42ebb195-57ec-4198-b089-476b40d204fb"
   },
   "source": [
    "## Target VS features"
   ]
  },
  {
   "cell_type": "code",
   "execution_count": null,
   "id": "a5545355-7cf5-4d9b-a6c1-725d3fabd4fc",
   "metadata": {
    "colab": {
     "base_uri": "https://localhost:8080/",
     "height": 143
    },
    "id": "a5545355-7cf5-4d9b-a6c1-725d3fabd4fc",
    "outputId": "76d3526b-8ed1-4e9a-e633-8f0008fa40b5"
   },
   "outputs": [],
   "source": [
    "dataset.groupby('Outcome').mean()"
   ]
  },
  {
   "cell_type": "code",
   "execution_count": null,
   "id": "8fd42347-ae3b-4a79-b07c-dda4010a8ab1",
   "metadata": {
    "colab": {
     "base_uri": "https://localhost:8080/",
     "height": 757
    },
    "id": "8fd42347-ae3b-4a79-b07c-dda4010a8ab1",
    "outputId": "fd72c877-fb82-4b17-d037-0779aab8c673"
   },
   "outputs": [],
   "source": [
    "plt.figure(figsize=(16,8))\n",
    "\n",
    "for i, col in enumerate(dataset.columns[:-1]):\n",
    "    plt.subplot(2, 4, i + 1)\n",
    "    sns.barplot(x='Outcome', y=dataset[col], data=dataset)\n",
    "    plt.title(f\"{col} vs. Outcome\")\n",
    "\n",
    "plt.tight_layout()\n",
    "plt.show()"
   ]
  },
  {
   "cell_type": "markdown",
   "id": "836242fa-74ae-4343-ac05-87afe6066f19",
   "metadata": {
    "id": "836242fa-74ae-4343-ac05-87afe6066f19"
   },
   "source": [
    "## Correlation of dataset"
   ]
  },
  {
   "cell_type": "code",
   "execution_count": null,
   "id": "9157a9ce-b562-40f6-ac24-97832e888727",
   "metadata": {
    "colab": {
     "base_uri": "https://localhost:8080/",
     "height": 332
    },
    "id": "9157a9ce-b562-40f6-ac24-97832e888727",
    "outputId": "ad50769c-6c03-45dd-8b66-de3811908a5d"
   },
   "outputs": [],
   "source": [
    "dataset.corr()"
   ]
  },
  {
   "cell_type": "markdown",
   "id": "3c95bacf-5799-41de-be28-f3438f0b0b30",
   "metadata": {
    "id": "3c95bacf-5799-41de-be28-f3438f0b0b30"
   },
   "source": [
    "## Visualizing the correlation of the dataset with Heat Map."
   ]
  },
  {
   "cell_type": "code",
   "execution_count": null,
   "id": "5b461410-75f7-4d27-9680-9a64570673ec",
   "metadata": {
    "colab": {
     "base_uri": "https://localhost:8080/",
     "height": 1000
    },
    "id": "5b461410-75f7-4d27-9680-9a64570673ec",
    "outputId": "d2f1e508-c0b7-42e3-9f14-3c9541d7117e"
   },
   "outputs": [],
   "source": [
    "f, ax = plt.subplots(figsize=(10, 10))\n",
    "sns.heatmap(dataset.corr(), annot=True, linewidths=0.5, linecolor=\"black\", fmt=\".2f\", ax=ax)\n",
    "plt.show()"
   ]
  },
  {
   "cell_type": "markdown",
   "id": "0c17ebb1-3c2d-452e-a1fb-14412d6de34a",
   "metadata": {
    "id": "0c17ebb1-3c2d-452e-a1fb-14412d6de34a"
   },
   "source": [
    "## Visualizing the correlation of the dataset with Pair Plot."
   ]
  },
  {
   "cell_type": "code",
   "execution_count": null,
   "id": "4f4b6dfa-9e04-40ca-9519-29c607f16768",
   "metadata": {
    "colab": {
     "base_uri": "https://localhost:8080/",
     "height": 1000
    },
    "id": "4f4b6dfa-9e04-40ca-9519-29c607f16768",
    "outputId": "4ad46618-50ad-4daf-c270-c4fd9a968eb8"
   },
   "outputs": [],
   "source": [
    "sns.pairplot(dataset, hue=\"Outcome\")\n",
    "plt.show()"
   ]
  },
  {
   "cell_type": "markdown",
   "id": "3ef06491-620e-4920-a9d9-9bd9f6c0adcd",
   "metadata": {
    "id": "3ef06491-620e-4920-a9d9-9bd9f6c0adcd"
   },
   "source": [
    "## Visualizing the correlation of the dataset with ClusterMap."
   ]
  },
  {
   "cell_type": "code",
   "execution_count": null,
   "id": "aa38d09e-46be-4f32-8424-f906957627d9",
   "metadata": {
    "colab": {
     "base_uri": "https://localhost:8080/",
     "height": 1000
    },
    "id": "aa38d09e-46be-4f32-8424-f906957627d9",
    "outputId": "ace7896c-eddc-4b9a-dda2-c8387d0187bf"
   },
   "outputs": [],
   "source": [
    "corr_matrix = dataset.corr()\n",
    "sns.clustermap(corr_matrix, annot = True, fmt = \".2f\")\n",
    "plt.title(\"Correlation Between Features\")\n",
    "plt.show()"
   ]
  },
  {
   "cell_type": "markdown",
   "id": "b0fc1c35-a9c9-4a79-b583-683336cc8b09",
   "metadata": {
    "id": "b0fc1c35-a9c9-4a79-b583-683336cc8b09"
   },
   "source": [
    "# Data Pre-Processing"
   ]
  },
  {
   "cell_type": "markdown",
   "id": "BJUMwUw-CyVz",
   "metadata": {
    "id": "BJUMwUw-CyVz"
   },
   "source": [
    "Pemrosesan data (data preprocessing) adalah langkah-langkah yang dilakukan untuk membersihkan, mengatur, dan mempersiapkan data mentah sebelum digunakan dalam analisis atau pemodelan. Ini bertujuan untuk memastikan data siap digunakan dalam algoritma pembelajaran mesin agar data tersebut memberikan hasil yang lebih akurat."
   ]
  },
  {
   "cell_type": "markdown",
   "id": "c8a83569-440e-4dfe-b4ea-28f9d2906883",
   "metadata": {
    "id": "c8a83569-440e-4dfe-b4ea-28f9d2906883"
   },
   "source": [
    "## Outliers Analysis"
   ]
  },
  {
   "cell_type": "markdown",
   "id": "8gbSsJtSDRmd",
   "metadata": {
    "id": "8gbSsJtSDRmd"
   },
   "source": [
    "Outliers analysis adalah proses identifikasi dan penanganan nilai-nilai ekstrem atau tidak biasa dalam dataset. Outliers adalah data yang secara signifikan berbeda dari sebagian besar data lain dalam dataset. Analisis outliers penting dalam pemrosesan data dan analisis statistik karena outliers dapat mempengaruhi hasil analisis dengan signifikan."
   ]
  },
  {
   "cell_type": "code",
   "execution_count": null,
   "id": "dc8df607-b6ab-4f38-8eba-cb6f8b471106",
   "metadata": {
    "colab": {
     "base_uri": "https://localhost:8080/",
     "height": 1000
    },
    "id": "dc8df607-b6ab-4f38-8eba-cb6f8b471106",
    "outputId": "5209a3dd-ebcd-4ead-d4e6-b2f4a4042021"
   },
   "outputs": [],
   "source": [
    "'''\n",
    " Kode dibawah digunakan untuk membuat box plot (di dalam loop) untuk setiap\n",
    " kolom (fitur) dalam dataset. Box plot adalah jenis visualisasi yang berguna\n",
    " untuk menunjukkan distribusi data, serta mengidentifikasi outliers jika ada\n",
    "'''\n",
    "\n",
    "for c in dataset.columns:\n",
    "    plt.figure()\n",
    "    sns.boxplot(x = c, data = dataset, orient = \"v\")"
   ]
  },
  {
   "cell_type": "markdown",
   "id": "b56f0d74-8915-41ef-bcea-884e0127f554",
   "metadata": {
    "id": "b56f0d74-8915-41ef-bcea-884e0127f554"
   },
   "source": [
    "## Create a function to clear outlier data in the dataset."
   ]
  },
  {
   "cell_type": "code",
   "execution_count": null,
   "id": "_Lmf32bxJiHy",
   "metadata": {
    "id": "_Lmf32bxJiHy"
   },
   "outputs": [],
   "source": [
    "describe = dataset.describe()\n",
    "\n",
    "def cleanColumn(data,columns, thr = 2):\n",
    "    column_desc = describe[columns]\n",
    "\n",
    "    q3 = column_desc[6]\n",
    "    q1 = column_desc[4]\n",
    "    IQR = q3 - q1\n",
    "\n",
    "    top_limit_clm = q3 + thr * IQR\n",
    "    bottom_limit_clm = q1 - thr * IQR\n",
    "\n",
    "    filter_clm_bottom = bottom_limit_clm < data[columns]\n",
    "    filter_clm_top = data[columns] < top_limit_clm\n",
    "\n",
    "    filters = filter_clm_bottom & filter_clm_top\n",
    "\n",
    "    data = data[filters]\n",
    "\n",
    "    print(\"{} of dataset after column {}\".format(data.shape, columns))\n",
    "\n",
    "    return data"
   ]
  },
  {
   "cell_type": "markdown",
   "id": "5-wumVT4NWTe",
   "metadata": {
    "id": "5-wumVT4NWTe"
   },
   "source": [
    "Melakukan pembersihan data dengan menghapus data yang dianggap sebagai outliers (nilai yang jauh dari rata-rata atau yang dianggap sebagai data anomali). Anda melakukan ini untuk setiap kolom dalam dataset."
   ]
  },
  {
   "cell_type": "code",
   "execution_count": null,
   "id": "ZyFdGEeWJuk5",
   "metadata": {
    "colab": {
     "base_uri": "https://localhost:8080/"
    },
    "id": "ZyFdGEeWJuk5",
    "outputId": "0ab95d5e-6c7d-42bb-f1b0-d4e6ac5ac608"
   },
   "outputs": [],
   "source": [
    "for i in dataset.columns:\n",
    "    data = cleanColumn(dataset, i)"
   ]
  },
  {
   "cell_type": "code",
   "execution_count": null,
   "id": "hLIkR39ZM8o6",
   "metadata": {
    "colab": {
     "base_uri": "https://localhost:8080/"
    },
    "id": "hLIkR39ZM8o6",
    "outputId": "5ecba6a5-36ae-4de7-d94e-76592c42834c"
   },
   "outputs": [],
   "source": [
    "print(\"New data shape: \", dataset.shape)"
   ]
  },
  {
   "cell_type": "markdown",
   "id": "3ef96098-e215-4784-b728-e86b57cf89f3",
   "metadata": {
    "id": "3ef96098-e215-4784-b728-e86b57cf89f3"
   },
   "source": [
    "## Feature Engineering\n",
    "\n",
    "Proses menciptakan variabel (fitur) tambahan dari data yang ada atau mengubah fitur yang sudah ada dalam rangka meningkatkan kualitas model pembelajaran mesin."
   ]
  },
  {
   "cell_type": "code",
   "execution_count": null,
   "id": "77ccdc68-ee99-4ef1-a1e5-b4ddf0a7a07d",
   "metadata": {
    "colab": {
     "base_uri": "https://localhost:8080/",
     "height": 1000
    },
    "id": "77ccdc68-ee99-4ef1-a1e5-b4ddf0a7a07d",
    "outputId": "0bd08dab-cc18-4c63-a9a8-8e7c29bef397"
   },
   "outputs": [],
   "source": [
    "for i in dataset.columns:\n",
    "    plt.figure()\n",
    "    sns.distplot(dataset[i], fit = norm)\n",
    "    plt.show()"
   ]
  },
  {
   "cell_type": "markdown",
   "id": "N3dikP4SB2ps",
   "metadata": {
    "id": "N3dikP4SB2ps"
   },
   "source": [
    "1. Histogram: Grafik histogram diatas membagi rentang data ke dalam beberapa interval atau \"bin\" dan menghitung berapa banyak data yang jatuh ke dalam setiap bin. Grafik ini memberikan pandangan tentang sebaran nilai-nilai data.\n",
    "\n",
    "2. Kurva Distribusi Normal (Fit=norm): Jika melihat garis kurva distribusi normal yang cocok dengan histogram, ini adalah upaya untuk memeriksa sejauh mana data\n",
    "sesuai dengan distribusi normal (kurva Gaussian). Jika garis ini mendekati bentuk histogram, maka data cenderung memiliki distribusi normal."
   ]
  },
  {
   "cell_type": "code",
   "execution_count": null,
   "id": "d318b482-31fc-44a2-89a0-d40729a4a4a1",
   "metadata": {
    "colab": {
     "base_uri": "https://localhost:8080/",
     "height": 1000
    },
    "id": "d318b482-31fc-44a2-89a0-d40729a4a4a1",
    "outputId": "27f6df3b-8866-47bd-f8f9-ca09a1abe947"
   },
   "outputs": [],
   "source": [
    "# Plot ini digunakan untuk memeriksa sejauh mana distribusi data cocok dengan\n",
    "# distribusi normal. Setiap plot Q-Q membandingkan distribusi data aktual\n",
    "# terhadap distribusi normal yang diharapkan.\n",
    "\n",
    "for i in dataset.columns:\n",
    "    plt.figure()\n",
    "    stats.probplot(dataset[i], plot = plt)\n",
    "    plt.title(i)\n",
    "    plt.show()"
   ]
  },
  {
   "cell_type": "markdown",
   "id": "B3tYvJjcCrmU",
   "metadata": {
    "id": "B3tYvJjcCrmU"
   },
   "source": [
    "1. Probability Plot (Q-Q Plot): Ini adalah plot yang digunakan untuk membandingkan distribusi data aktual dengan distribusi normal yang diharapkan. Jika semua titik dalam plot ini berada di garis diagonal, itu menunjukkan bahwa data Anda mengikuti distribusi normal.\n",
    "\n",
    "2. Garis Diagonal: Garis diagonal pada plot adalah representasi distribusi normal yang diharapkan. Jika titik-titik data cocok dengan garis ini, maka data Anda adalah normal.\n",
    "\n",
    "3. Titik-titik Data: Titik-titik dalam plot adalah representasi distribusi aktual dari data Anda. Jika titik-titik ini mengikuti garis diagonal, itu menunjukkan bahwa data Anda adalah normal. Jika titik-titik ini terpencar dari garis diagonal, itu menunjukkan bahwa data memiliki distribusi yang berbeda dari distribusi normal."
   ]
  },
  {
   "cell_type": "code",
   "execution_count": null,
   "id": "GQkt8ujnNYNa",
   "metadata": {
    "colab": {
     "base_uri": "https://localhost:8080/",
     "height": 332
    },
    "id": "GQkt8ujnNYNa",
    "outputId": "32403312-8e2c-4268-9893-76bdaf4d2b0d"
   },
   "outputs": [],
   "source": [
    "# Mengidentifikasi fitur-fitur dalam dataset yang memiliki sebaran data yang\n",
    "# condong atau \"skewed.\" Ketika data condong, ini dapat memengaruhi kinerja\n",
    "# model machine learning, terutama model yang mengasumsikan bahwa data\n",
    "# terdistribusi normal.\n",
    "\n",
    "skewed_feats = dataset.apply(lambda x: skew(x.dropna())).sort_values(ascending = False)\n",
    "skewness = pd.DataFrame(skewed_feats, columns = [\"Skewed\"])\n",
    "skewness"
   ]
  },
  {
   "cell_type": "markdown",
   "id": "RU0ArGw9Ol58",
   "metadata": {
    "id": "RU0ArGw9Ol58"
   },
   "source": [
    "Jika skewness positif, maka ini menunjukkan bahwa distribusi data pada fitur tersebut cenderung miring ke kanan (positif), yang berarti terdapat banyak data yang tersebar di nilai-nilai yang lebih tinggi. Skewness negatif akan menunjukkan bahwa distribusi data cenderung miring ke kiri (negatif), dengan data-data yang lebih banyak di nilai-nilai yang lebih rendah. Skewness mendekati nol menunjukkan bahwa distribusi data kurang miring dan lebih simetris."
   ]
  },
  {
   "cell_type": "markdown",
   "id": "YEZn_LbkNzzr",
   "metadata": {
    "id": "YEZn_LbkNzzr"
   },
   "source": [
    "##Splitting the Dataset into the Training set and Test Set"
   ]
  },
  {
   "cell_type": "code",
   "execution_count": null,
   "id": "NMUU00YCNvOI",
   "metadata": {
    "id": "NMUU00YCNvOI"
   },
   "outputs": [],
   "source": [
    "X = dataset.iloc[:, :-1].values\n",
    "y = dataset.iloc[:, -1].values"
   ]
  },
  {
   "cell_type": "code",
   "execution_count": null,
   "id": "F-oC4ap9OUhs",
   "metadata": {
    "id": "F-oC4ap9OUhs"
   },
   "outputs": [],
   "source": [
    "# Dalam kasus ini, sebanyak 25% dari data akan digunakan sebagai data uji,\n",
    "# sementara sisanya (75%) akan digunakan sebagai data latih.\n",
    "\n",
    "X_train, X_test, y_train, y_test = train_test_split(X, y, test_size=0.25, random_state=0)"
   ]
  },
  {
   "cell_type": "code",
   "execution_count": null,
   "id": "YFxS3AXfOnHW",
   "metadata": {
    "colab": {
     "base_uri": "https://localhost:8080/"
    },
    "id": "YFxS3AXfOnHW",
    "outputId": "57ecacf8-48e9-408d-bd57-8e71243fb132"
   },
   "outputs": [],
   "source": [
    "print(\"X_train shape: \", X_train.shape)\n",
    "print(\"X_test shape: \", X_test.shape)\n",
    "print(\"y_train shape: \", y_train.shape)\n",
    "print(\"y_test shape: \", y_test.shape)"
   ]
  },
  {
   "cell_type": "markdown",
   "id": "sKZRiIb6PYVO",
   "metadata": {
    "id": "sKZRiIb6PYVO"
   },
   "source": [
    "## Apply StandardScaler and RobustScaler on the X_train and X_test.\n"
   ]
  },
  {
   "cell_type": "markdown",
   "id": "xHLBXN06PS4R",
   "metadata": {
    "id": "xHLBXN06PS4R"
   },
   "source": [
    "**Standard Scaller**\n",
    "1. Fungsi: Mengubah data sehingga memiliki rata-rata nol (0) dan deviasi standar satu (1).\n",
    "2. Kapan digunakan: Cocok untuk data yang memiliki distribusi normal dan tidak memiliki pencilan (outliers) yang signifikan.\n",
    "3. Cara kerja: Mengurangkan rata-rata semua nilai dalam data dari setiap nilai, dan kemudian membaginya dengan deviasi standar. Ini menghasilkan data yang terdistribusi dengan rata-rata di sekitar nol dan sebaran seragam.\n",
    "\n",
    "**Robust Scaller**\n",
    "1. Fungsi: Mengubah data sehingga tahan terhadap pencilan (outliers) dengan menjaga distribusi data tetap seragam.\n",
    "2. Kapan digunakan: Cocok untuk data yang memiliki pencilan (outliers) yang signifikan atau tidak terdistribusi normal.\n",
    "3. Cara kerja: Menggunakan median dan deviasi kuartil (IQR) untuk mengubah data. IQR adalah perbedaan antara kuartil atas dan kuartil bawah, yang membuat metode ini lebih tahan terhadap data ekstrem."
   ]
  },
  {
   "cell_type": "code",
   "execution_count": null,
   "id": "dB2FkpxMOosy",
   "metadata": {
    "id": "dB2FkpxMOosy"
   },
   "outputs": [],
   "source": [
    "scaler = StandardScaler()\n",
    "SSX_train = scaler.fit_transform(X_train)\n",
    "SSX_test = scaler.transform(X_test)\n",
    "\n",
    "Rscaler =  RobustScaler()\n",
    "RSX_train = Rscaler.fit_transform(X_train)\n",
    "RSX_test = Rscaler.transform(X_test)\n",
    "\n",
    "train_test = [SSX_train, RSX_train, SSX_test, RSX_test]"
   ]
  },
  {
   "cell_type": "markdown",
   "id": "LheW-eZ0PknV",
   "metadata": {
    "id": "LheW-eZ0PknV"
   },
   "source": [
    "# Machine Learning Classification Models"
   ]
  },
  {
   "cell_type": "code",
   "execution_count": null,
   "id": "z6AURwFnPe3u",
   "metadata": {
    "id": "z6AURwFnPe3u"
   },
   "outputs": [],
   "source": [
    "# Import Logistic Regression Models\n",
    "from sklearn.linear_model import LogisticRegression\n",
    "\n",
    "# Import K-Nearest Neighbor Models\n",
    "from sklearn.neighbors import KNeighborsClassifier\n",
    "\n",
    "# Import Support Vector Machine Models\n",
    "from sklearn.svm import SVC\n",
    "\n",
    "# Import Naive Bayes Models\n",
    "from sklearn.naive_bayes import GaussianNB\n",
    "\n",
    "# Import Decision Tree Classification Models\n",
    "from sklearn.tree import DecisionTreeClassifier\n",
    "\n",
    "# Import Random Forest Classification Models\n",
    "from sklearn.ensemble import RandomForestClassifier\n",
    "\n",
    "from sklearn.metrics import accuracy_score, confusion_matrix"
   ]
  },
  {
   "cell_type": "markdown",
   "id": "u5EktQXRP5E9",
   "metadata": {
    "id": "u5EktQXRP5E9"
   },
   "source": [
    "## Create a dataframe for the ML models."
   ]
  },
  {
   "cell_type": "code",
   "execution_count": null,
   "id": "bjbD2I5qPo_k",
   "metadata": {
    "id": "bjbD2I5qPo_k"
   },
   "outputs": [],
   "source": [
    "result_ml_data = pd.DataFrame(columns = [\"Model_Name\", \"SS_Score\", \"RS_Score\"])"
   ]
  },
  {
   "cell_type": "code",
   "execution_count": null,
   "id": "uR3YifeSQAms",
   "metadata": {
    "id": "uR3YifeSQAms"
   },
   "outputs": [],
   "source": [
    "model_name = [\"LR\", \"KNN\", \"SVM\", \"NB\", \"DT\", \"RF\"] # Abridgment Names of Models\n",
    "result_ml_data[\"Model_Name\"] = model_name"
   ]
  },
  {
   "cell_type": "code",
   "execution_count": null,
   "id": "FJYzOdHTQFkD",
   "metadata": {
    "colab": {
     "base_uri": "https://localhost:8080/",
     "height": 238
    },
    "id": "FJYzOdHTQFkD",
    "outputId": "c3c21d3d-6656-47a9-a30b-34a8097b78b4"
   },
   "outputs": [],
   "source": [
    "result_ml_data"
   ]
  },
  {
   "cell_type": "markdown",
   "id": "ss_jtMwfWTR6",
   "metadata": {
    "id": "ss_jtMwfWTR6"
   },
   "source": [
    "#Logistic Regression\n",
    "\n",
    "Logistic Regression adalah cara untuk memprediksi sesuatu yang hanya memiliki dua kemungkinan hasil. Misalnya, apakah pasien memiliki penyakit tertentu atau tidak. Algoritma ini menggunakan matematika untuk menemukan hubungan antara faktor-faktor yang Anda miliki (seperti usia, berat badan, tekanan darah, dll.) dan probabilitas terjadinya hasil yang Anda minati (misalnya, probabilitas seseorang memiliki penyakit). Ini menghasilkan output yang berada dalam rentang 0 hingga 1 dan dapat diinterpretasikan sebagai probabilitas."
   ]
  },
  {
   "cell_type": "markdown",
   "id": "59sok4J7JnQh",
   "metadata": {
    "id": "59sok4J7JnQh"
   },
   "source": [
    "**Proses tuning hyperparameter menggunakan GridSearchCV pada model logistic regression**\n",
    "Tujuan utamanya adalah untuk meningkatkan akurasi, mencegah overfitting atau underfitting, dan menyesuaikan model dengan kebutuhan tugas tertentu. Dengan tuning, mencari konfigurasi yang membuat model ML bekerja paling baik pada data uji yang belum pernah dilihat sebelumnya. Ini membantu memastikan bahwa model dapat menggeneralisasi dengan baik dan efisien dalam menyelesaikan tugasnya."
   ]
  },
  {
   "cell_type": "code",
   "execution_count": null,
   "id": "-uZI6vJRQJtr",
   "metadata": {
    "colab": {
     "base_uri": "https://localhost:8080/"
    },
    "id": "-uZI6vJRQJtr",
    "outputId": "bf6a4780-1100-4f2a-a386-72693ce99f58"
   },
   "outputs": [],
   "source": [
    "\n",
    "for i in range(0,2):\n",
    "\n",
    "    # Membuat object model logistic regression\n",
    "    logreg = LogisticRegression(random_state = 0)\n",
    "\n",
    "    # Untuk menjaga dataset latih dan uji asli tidak berubah selama proses\n",
    "    # tuning hyperparameter maka dibuat data latih dan uji khusus model LR\n",
    "    # yang berdasarkan data diatas\n",
    "    X_train_logreg, X_test_logreg, y_train_logreg, y_test_logreg = X_train, X_test, y_train, y_test\n",
    "\n",
    "    # proses melatih model\n",
    "    logreg.fit(X_train_logreg, y_train_logreg)\n",
    "\n",
    "    '''\n",
    "    Dengan menggabungkan berbagai nilai parameter ini, menciptakan daftar\n",
    "    kombinasi hyperparameter yang berbeda yang akan diuji selama pencarian\n",
    "    parameter. GridSearchCV akan mencoba setiap kombinasi dan mengukur kinerja\n",
    "    model menggunakan metrik yang ditentukan (dalam hal ini, \"accuracy\")\n",
    "    untuk menemukan parameter yang memberikan hasil terbaik.\n",
    "    '''\n",
    "\n",
    "    logreg_params_grid = [{\"penalty\" : [\"l1\",\"l2\"], \"solver\" : [\"newton-cg\", \"lbfgs\", \"liblinear\", \"sag\", \"saga\"],\n",
    "             \"multi_class\" : [\"auto\",\"ovr\",\"multinomial\"]}]\n",
    "\n",
    "    grid_search_logreg = GridSearchCV(estimator = logreg, param_grid = logreg_params_grid, scoring = \"accuracy\", cv = 4)\n",
    "    grid_search_logreg_result = grid_search_logreg.fit(train_test[i], y_train_logreg)\n",
    "    y_pred_logreg = grid_search_logreg_result.predict(train_test[i+2])\n",
    "\n",
    "    best_param = grid_search_logreg_result.best_params_\n",
    "    best_score = grid_search_logreg_result.best_score_\n",
    "\n",
    "    print(\"Best prameter of grid search function: \", best_param)\n",
    "    print(\"Best score of grid search function: \", best_score)\n",
    "\n",
    "    if (i == 0):\n",
    "        result_ml_data[\"SS_Score\"][0] = accuracy_score(y_pred_logreg, y_test_logreg)\n",
    "    else:\n",
    "        result_ml_data[\"RS_Score\"][0] = accuracy_score(y_pred_logreg, y_test_logreg)"
   ]
  },
  {
   "cell_type": "markdown",
   "id": "v7AEzgQBLcJ7",
   "metadata": {
    "id": "v7AEzgQBLcJ7"
   },
   "source": [
    "Hasil ini menunjukkan bahwa setelah melakukan pencarian parameter dengan GridSearchCV, dua set parameter yang berbeda memberikan hasil yang serupa dalam hal akurasi. Ini dapat terjadi karena beberapa kombinasi parameter dapat menghasilkan hasil yang mirip dalam hal kinerja model."
   ]
  },
  {
   "cell_type": "markdown",
   "id": "Tq9pRZoqRQV8",
   "metadata": {
    "id": "Tq9pRZoqRQV8"
   },
   "source": [
    "## Machine Learning Models Assestment"
   ]
  },
  {
   "cell_type": "code",
   "execution_count": null,
   "id": "fVCouKzfQRLR",
   "metadata": {
    "colab": {
     "base_uri": "https://localhost:8080/",
     "height": 238
    },
    "id": "fVCouKzfQRLR",
    "outputId": "e0bfa1bb-60f2-4954-927e-e577ad40f86e"
   },
   "outputs": [],
   "source": [
    "result_ml_data"
   ]
  },
  {
   "cell_type": "markdown",
   "id": "HnyW6sxcVFl_",
   "metadata": {
    "id": "HnyW6sxcVFl_"
   },
   "source": [
    "## Predicting the Test results"
   ]
  },
  {
   "cell_type": "code",
   "execution_count": null,
   "id": "B1p1GiPXR4ay",
   "metadata": {
    "colab": {
     "base_uri": "https://localhost:8080/"
    },
    "id": "B1p1GiPXR4ay",
    "outputId": "9517d0c0-b38b-4c29-f016-b753a6fe664b"
   },
   "outputs": [],
   "source": [
    "logreg.predict(X_test_logreg)\n",
    "# print(np.concatenate((y_pred_logreg.reshape(len(y_pred_logreg), 1), y_test.reshape(len(y_test_logreg),1)),1))"
   ]
  },
  {
   "cell_type": "markdown",
   "id": "jOzcznCb-NuU",
   "metadata": {
    "id": "jOzcznCb-NuU"
   },
   "source": [
    "## Visualizing Actual Values and Prediction Values with Confussion Matrix"
   ]
  },
  {
   "cell_type": "code",
   "execution_count": null,
   "id": "3SU0sqdBVagV",
   "metadata": {
    "colab": {
     "base_uri": "https://localhost:8080/",
     "height": 625
    },
    "id": "3SU0sqdBVagV",
    "outputId": "968001a8-882d-40ef-ce5d-36e09a750f49"
   },
   "outputs": [],
   "source": [
    "def plot_confussion_matrix_logreg(y_test_logreg, y_pred_logreg):\n",
    "  acc = round(accuracy_score(y_test_logreg, y_pred_logreg), 2)\n",
    "  cm = confusion_matrix(y_pred=y_pred_logreg, y_true=y_test_logreg)\n",
    "  sns.heatmap(cm, annot=True, fmt=\".0f\", xticklabels=[\"Positive\", \"Negative\"], yticklabels=[\"Positive\", \"Negative\"])\n",
    "  plt.xlabel(\"Prediction\")\n",
    "  plt.ylabel(\"Actual\")\n",
    "  plt.title(\"Accuracy Score: {0}\".format(acc), size=10)\n",
    "  plt.show()\n",
    "\n",
    "plot_confussion_matrix_logreg(y_test_logreg, y_pred_logreg)\n",
    "print(classification_report(y_test_logreg, y_pred_logreg))"
   ]
  },
  {
   "cell_type": "markdown",
   "id": "HhmEFfBz_47g",
   "metadata": {
    "id": "HhmEFfBz_47g"
   },
   "source": [
    "\n",
    "1. True Positives (TP): Ini mengindikasikan bahwa model logistic regression dengan benar memprediksi 118 pasien sebagai positif (mengidap penyakit diabetes).\n",
    "\n",
    "2. False Positives (FP): Ini mengindikasikan bahwa model logistic regression salah memprediksi 12 pasien sebagai positif (mengidap penyakit diabetes), padahal sebenarnya mereka negatif.\n",
    "\n",
    "3. False Negatives (FN): Ini mengindikasikan bahwa model logistic regression salah memprediksi 26 pasien sebagai negatif (tidak mengidap penyakit diabetes), padahal sebenarnya mereka positif.  \n",
    "\n",
    "4. True Negatives (TN): Ini mengindikasikan bahwa model logistic regression dengan benar memprediksi 36 pasien sebagai negatif (tidak mengidap penyakit diabetes).\n",
    "\n",
    "Akurasi (Accuracy): Akurasi mengukur sejauh mana model yg benar secara keseluruhan. Ini dihitung sebagai (TP + TN) / (TP + TN + FP + FN).\n",
    "\n",
    "Presisi (Precision): Presisi mengukur sejauh mana prediksi positif model adalah benar. Ini dihitung sebagai TP / (TP + FP).\n",
    "\n",
    "Recall (Sensitivitas): Recall mengukur sejauh mana model Anda dapat mengidentifikasi semua kasus positif yang sebenarnya. Ini dihitung sebagai TP / (TP + FN).\n",
    "\n",
    "F1-Score (F1-Score): F1-Score adalah rata-rata harmonik dari presisi dan recall. Ini memberikan keseimbangan antara kedua metrik tersebut."
   ]
  },
  {
   "cell_type": "markdown",
   "id": "QMvGxfp2V5f2",
   "metadata": {
    "id": "QMvGxfp2V5f2"
   },
   "source": [
    "## ROC Curve Visualization\n",
    "\n",
    "ROC adalah grafik yang digunakan untuk menilai kinerja model klasifikasi, seperti yang digunakan dalam machine learning. Ini mengukur kemampuan model untuk membedakan antara kelas positif dan negatif. Grafik ini menampilkan perbandingan antara tingkat True Positive (ketepatan memprediksi kelas positif) dan tingkat False Positive (kesalahan dalam memprediksi kelas positif) pada berbagai ambang batas atau threshold yang berbeda. Semakin dekat kurva ROC ke sudut kiri atas, semakin baik kemampuan model untuk membedakan antara kedua kelas."
   ]
  },
  {
   "cell_type": "code",
   "execution_count": null,
   "id": "ncDlnEORV45P",
   "metadata": {
    "colab": {
     "base_uri": "https://localhost:8080/",
     "height": 564
    },
    "id": "ncDlnEORV45P",
    "outputId": "86d2d34e-43b8-400d-ae6b-86862166aad5"
   },
   "outputs": [],
   "source": [
    "# Menghitung probabilitas prediksi\n",
    "y_pred_prob = logreg.predict_proba(X_test_logreg)[:, 1]\n",
    "\n",
    "# Menghitung ROC curve\n",
    "fpr, tpr, thresholds = roc_curve(y_test_logreg, y_pred_prob)\n",
    "\n",
    "# Menghitung area di bawah kurva ROC (AUC)\n",
    "roc_auc = roc_auc_score(y_test_logreg, y_pred_prob)\n",
    "\n",
    "# Membuat plot untuk ROC curve\n",
    "plt.figure(figsize=(8, 6))\n",
    "plt.plot(fpr, tpr, color='blue', lw=2, label=f'ROC curve (area = {roc_auc:.2f})')\n",
    "plt.plot([0, 1], [0, 1], color='gray', linestyle='--')\n",
    "plt.xlim([0.0, 1.0])\n",
    "plt.ylim([0.0, 1.05])\n",
    "plt.xlabel('False Positive Rate')\n",
    "plt.ylabel('True Positive Rate')\n",
    "plt.title('Receiver Operating Characteristic (ROC)')\n",
    "plt.legend(loc='lower right')\n",
    "plt.show()"
   ]
  },
  {
   "cell_type": "markdown",
   "id": "PZmSblSaWWdJ",
   "metadata": {
    "id": "PZmSblSaWWdJ"
   },
   "source": [
    "Secara kualitatif dapat menginterpretasikan AUC sebagai berikut:\n",
    "\n",
    "1. AUC = 0.5: Model tidak memiliki kemampuan pemisahan antara kelas positif dan negatif; itu sebanding dengan pemilihan kelas secara acak.\n",
    "2. 0.5 < AUC < 1: Model memiliki kemampuan memisahkan kelas dengan berbagai tingkat. Semakin tinggi AUC, semakin baik modelnya.\n",
    "3. AUC = 1: Model sempurna dan mampu memisahkan kelas positif dan negatif tanpa kesalahan.\n",
    "\n",
    "Dalam konteks diatas AUC = 0.86 menunjukkan bahwa model logistic regression memiliki kemampuan yang baik dalam memisahkan kelas positif dan negatif."
   ]
  },
  {
   "cell_type": "markdown",
   "id": "fqdTf3DVJtHS",
   "metadata": {
    "id": "fqdTf3DVJtHS"
   },
   "source": [
    "# K-Nearest Neighbors\n",
    "\n",
    "K-Nearest Neighbors adalah algoritma yang memutuskan hasil prediksi berdasarkan mayoritas kelas tetangga terdekat. Jadi, jika Anda ingin memprediksi sesuatu (misalnya, kategori sebuah bunga), algoritma ini akan melihat tetangga terdekat dari bunga yang akan diprediksi dan memilih kategori mayoritas dari tetangga-tetangga tersebut. Ini adalah pendekatan yang sederhana dan intuitif dalam machine learning."
   ]
  },
  {
   "cell_type": "code",
   "execution_count": null,
   "id": "pkAxvMdeL2ym",
   "metadata": {
    "colab": {
     "base_uri": "https://localhost:8080/"
    },
    "id": "pkAxvMdeL2ym",
    "outputId": "f88adcc8-7f24-4dac-fe4d-79956e683929"
   },
   "outputs": [],
   "source": [
    "# Proses tuning hyperparameter menggunakan GridSearchCV pada model KNN\n",
    "\n",
    "for i in range(0,2):\n",
    "\n",
    "    # Membuat objek model k-nearest neighbors\n",
    "\n",
    "    knn = KNeighborsClassifier(n_neighbors = 5)\n",
    "    X_train_knn, X_test_knn, y_train_knn, y_test_knn = X_train, X_test, y_train, y_test\n",
    "\n",
    "    knn.fit(X_train_knn, y_train_knn)\n",
    "\n",
    "    knn_params_grid = {\"n_neighbors\" : range(1,100), \"weights\" : [\"uniform\", \"distance\"], \"algorithm\" : [\"auto\", \"ball_tree\", \"kd_tree\", \"brute\"], \"p\" : [1,2]}\n",
    "\n",
    "    grid_knn = GridSearchCV(estimator = knn, param_grid = knn_params_grid, scoring = \"accuracy\", cv = 4)\n",
    "    grid_knn_search = grid_knn.fit(train_test[i], y_train_knn)\n",
    "    y_pred_knn = grid_knn.predict(train_test[i+2])\n",
    "\n",
    "    best_param_grid_knn = grid_knn_search.best_params_\n",
    "    best_score_grid_knn = grid_knn_search.best_score_\n",
    "\n",
    "    print(\"Best prameter of gridsearch function: \", best_param_grid_knn)\n",
    "    print(\"Best score of gridsearch function: \",best_score_grid_knn)\n",
    "\n",
    "    if (i == 0):\n",
    "        result_ml_data[\"SS_Score\"][1] = accuracy_score(y_pred_knn, y_test_knn)\n",
    "    else:\n",
    "        result_ml_data[\"RS_Score\"][1] = accuracy_score(y_pred_knn, y_test_knn)"
   ]
  },
  {
   "cell_type": "markdown",
   "id": "-6JFBEboL2Y3",
   "metadata": {
    "id": "-6JFBEboL2Y3"
   },
   "source": [
    "## Machine Learning Models Assestment"
   ]
  },
  {
   "cell_type": "code",
   "execution_count": null,
   "id": "ubXaiUCjOHvQ",
   "metadata": {
    "colab": {
     "base_uri": "https://localhost:8080/",
     "height": 238
    },
    "id": "ubXaiUCjOHvQ",
    "outputId": "27f4f6c1-975f-453a-cf22-3b6f29815419"
   },
   "outputs": [],
   "source": [
    "result_ml_data"
   ]
  },
  {
   "cell_type": "markdown",
   "id": "zMEmq2_RPHH9",
   "metadata": {
    "id": "zMEmq2_RPHH9"
   },
   "source": [
    "## Predicting the Test results"
   ]
  },
  {
   "cell_type": "code",
   "execution_count": null,
   "id": "vRHfx8sZPELN",
   "metadata": {
    "colab": {
     "base_uri": "https://localhost:8080/"
    },
    "id": "vRHfx8sZPELN",
    "outputId": "66adf67c-03c7-4246-cc48-47e6c4ad750b"
   },
   "outputs": [],
   "source": [
    "knn.predict(X_test_knn)"
   ]
  },
  {
   "cell_type": "markdown",
   "id": "kxOz2z0sPdVD",
   "metadata": {
    "id": "kxOz2z0sPdVD"
   },
   "source": [
    "## Visualizing Actual Values and Prediction Values with Confussion Matrix"
   ]
  },
  {
   "cell_type": "code",
   "execution_count": null,
   "id": "zxmX9Io5PPn1",
   "metadata": {
    "colab": {
     "base_uri": "https://localhost:8080/",
     "height": 625
    },
    "id": "zxmX9Io5PPn1",
    "outputId": "6e44b282-556a-469e-bf7b-1949993ff4ac"
   },
   "outputs": [],
   "source": [
    "def plot_confussion_matrix_knn(y_test_knn, y_pred_knn):\n",
    "  acc = round(accuracy_score(y_test_knn, y_pred_knn), 2)\n",
    "  cm = confusion_matrix(y_pred=y_pred_knn, y_true=y_test_knn)\n",
    "  sns.heatmap(cm, annot=True, fmt=\".0f\", xticklabels=[\"Positive\", \"Negative\"], yticklabels=[\"Positive\", \"Negative\"])\n",
    "  plt.xlabel(\"Prediction\")\n",
    "  plt.ylabel(\"Actual\")\n",
    "  plt.title(\"Accuracy Score: {0}\".format(acc), size=10)\n",
    "  plt.show()\n",
    "\n",
    "plot_confussion_matrix_knn(y_test_knn, y_pred_knn)\n",
    "print(classification_report(y_test_knn, y_pred_knn))"
   ]
  },
  {
   "cell_type": "markdown",
   "id": "WzfPzdQfQCVI",
   "metadata": {
    "id": "WzfPzdQfQCVI"
   },
   "source": [
    "1. True Positives (TP): Ini mengindikasikan bahwa model KNN dengan benar memprediksi 118 pasien sebagai positif (mengidap penyakit diabetes).\n",
    "\n",
    "2. False Positives (FP): Ini mengindikasikan bahwa model KNN salah memprediksi 12 pasien sebagai positif (mengidap penyakit diabetes), padahal sebenarnya mereka negatif.\n",
    "\n",
    "3. False Negatives (FN): Ini mengindikasikan bahwa model KNN salah memprediksi 31 pasien sebagai negatif (tidak mengidap penyakit diabetes), padahal sebenarnya mereka positif.  \n",
    "\n",
    "4. True Negatives (TN): Ini mengindikasikan bahwa model KNN dengan benar memprediksi 31 pasien sebagai negatif (tidak mengidap penyakit diabetes)."
   ]
  },
  {
   "cell_type": "markdown",
   "id": "AZfQpVqwW2Ok",
   "metadata": {
    "id": "AZfQpVqwW2Ok"
   },
   "source": [
    "## ROC Curve Visualization"
   ]
  },
  {
   "cell_type": "code",
   "execution_count": null,
   "id": "5MYj7Pk0W2wt",
   "metadata": {
    "colab": {
     "base_uri": "https://localhost:8080/",
     "height": 564
    },
    "id": "5MYj7Pk0W2wt",
    "outputId": "5eee0d28-4753-4b68-85f2-500e94dfecae"
   },
   "outputs": [],
   "source": [
    "# Menghitung probabilitas prediksi\n",
    "y_pred_prob = knn.predict_proba(X_test_knn)[:, 1]\n",
    "\n",
    "# Menghitung ROC curve\n",
    "fpr, tpr, thresholds = roc_curve(y_test_knn, y_pred_prob)\n",
    "\n",
    "# Menghitung area di bawah kurva ROC (AUC)\n",
    "roc_auc = roc_auc_score(y_test_knn, y_pred_prob)\n",
    "\n",
    "# Membuat plot untuk ROC curve\n",
    "plt.figure(figsize=(8, 6))\n",
    "plt.plot(fpr, tpr, color='blue', lw=2, label=f'ROC curve (area = {roc_auc:.2f})')\n",
    "plt.plot([0, 1], [0, 1], color='gray', linestyle='--')\n",
    "plt.xlim([0.0, 1.0])\n",
    "plt.ylim([0.0, 1.05])\n",
    "plt.xlabel('False Positive Rate')\n",
    "plt.ylabel('True Positive Rate')\n",
    "plt.title('Receiver Operating Characteristic (ROC)')\n",
    "plt.legend(loc='lower right')\n",
    "plt.show()"
   ]
  },
  {
   "cell_type": "markdown",
   "id": "BBP_OFeIZh6L",
   "metadata": {
    "id": "BBP_OFeIZh6L"
   },
   "source": [
    "# Support Vector Machine\n",
    "\n",
    "SVM adalah algoritma yang mencari garis batas terbaik untuk memisahkan dua kelas data. Ia mencoba untuk membuat margin (jarak) terbesar antara garis batas dan titik-titik data terdekat. Algoritma ini juga dapat digunakan dalam masalah regresi untuk memprediksi angka (bukan hanya kategori). SVM dikenal sebagai salah satu algoritma klasifikasi yang kuat dan serbaguna dalam machine learning."
   ]
  },
  {
   "cell_type": "code",
   "execution_count": null,
   "id": "dPWJ0a3HPZTI",
   "metadata": {
    "colab": {
     "base_uri": "https://localhost:8080/"
    },
    "id": "dPWJ0a3HPZTI",
    "outputId": "f0ef2ab4-78dd-4fb6-9cb3-706899ca9087"
   },
   "outputs": [],
   "source": [
    "# Proses tuning hyperparameter menggunakan GridSearchCV pada model SVM\n",
    "\n",
    "for i in range(0,2):\n",
    "\n",
    "    ## Membuat objek model Support Vector Machine\n",
    "\n",
    "    svm = SVC(kernel=\"linear\", random_state=0, probability=True)\n",
    "    X_train_svm, X_test_svm, y_train_svm, y_test_svm = X_train, X_test, y_train, y_test\n",
    "\n",
    "    svm.fit(X_train_svm, y_train_svm)\n",
    "\n",
    "    svm_params_grid = [{'C':[1,2,3,4,5],'kernel':['linear']},\n",
    "        {'C':[1,2,3,4,5],'kernel':['rbf'],'gamma':[1,0.5,0.1,0.01,0.001]},\n",
    "        {'C':[1,2,3,4,5],'kernel':['poly'],'degree':[1,2,3,4,5,6,7],'gamma':[1,0.5,0.1,0.01,0.001]}]\n",
    "\n",
    "    grid_svm = GridSearchCV(estimator = svm, param_grid = svm_params_grid, scoring = \"accuracy\", cv = 4)\n",
    "    grid_search_svm = grid_svm.fit(train_test[i], y_train_svm)\n",
    "    y_pred_svm = grid_search_svm.predict(train_test[i+2])\n",
    "\n",
    "\n",
    "    best_param_grid = grid_search_svm.best_params_\n",
    "    best_score_grid = grid_search_svm.best_score_\n",
    "\n",
    "    print(\"Best prameter of gridsearch function: \", grid_search_svm.best_params_)\n",
    "    print(\"Best score of gridsearch function: \",grid_search_svm.best_score_ )\n",
    "\n",
    "    if (i == 0):\n",
    "        result_ml_data[\"SS_Score\"][2] = accuracy_score(y_pred_svm,y_test_svm)\n",
    "    else:\n",
    "        result_ml_data[\"RS_Score\"][2] = accuracy_score(y_pred_svm,y_test_svm)"
   ]
  },
  {
   "cell_type": "markdown",
   "id": "lgzwUeg2ZttL",
   "metadata": {
    "id": "lgzwUeg2ZttL"
   },
   "source": [
    "## Machine Learning Models Assestment"
   ]
  },
  {
   "cell_type": "code",
   "execution_count": null,
   "id": "DpZvp_f9cXrJ",
   "metadata": {
    "colab": {
     "base_uri": "https://localhost:8080/",
     "height": 238
    },
    "id": "DpZvp_f9cXrJ",
    "outputId": "cb2fa457-43e4-43a8-815d-a608f856a2d1"
   },
   "outputs": [],
   "source": [
    "result_ml_data"
   ]
  },
  {
   "cell_type": "markdown",
   "id": "GUK9H54rlyVH",
   "metadata": {
    "id": "GUK9H54rlyVH"
   },
   "source": [
    "## Predicting the Test results"
   ]
  },
  {
   "cell_type": "code",
   "execution_count": null,
   "id": "6indL5U1c5gA",
   "metadata": {
    "colab": {
     "base_uri": "https://localhost:8080/"
    },
    "id": "6indL5U1c5gA",
    "outputId": "8c03cd25-29d1-49e5-eb8d-ed0011b2fc5e"
   },
   "outputs": [],
   "source": [
    "svm.predict(X_test_svm)"
   ]
  },
  {
   "cell_type": "markdown",
   "id": "dPM49aGMdDg4",
   "metadata": {
    "id": "dPM49aGMdDg4"
   },
   "source": [
    "## Visualizing Actual Values and Prediction Values with Confussion Matrix"
   ]
  },
  {
   "cell_type": "code",
   "execution_count": null,
   "id": "FFqu90Zsc_-0",
   "metadata": {
    "colab": {
     "base_uri": "https://localhost:8080/",
     "height": 625
    },
    "id": "FFqu90Zsc_-0",
    "outputId": "c4b04703-358d-415c-d514-533395834330"
   },
   "outputs": [],
   "source": [
    "def plot_confussion_matrix_svm(y_test_svm, y_pred_svm):\n",
    "  acc = round(accuracy_score(y_test_svm, y_pred_svm), 2)\n",
    "  cm = confusion_matrix(y_pred=y_pred_svm, y_true=y_test_svm)\n",
    "  sns.heatmap(cm, annot=True, fmt=\".0f\", xticklabels=[\"Positive\", \"Negative\"], yticklabels=[\"Positive\", \"Negative\"])\n",
    "  plt.xlabel(\"Prediction\")\n",
    "  plt.ylabel(\"Actual\")\n",
    "  plt.title(\"Accuracy Score: {0}\".format(acc), size=10)\n",
    "  plt.show()\n",
    "\n",
    "plot_confussion_matrix_svm(y_test_svm, y_pred_svm)\n",
    "print(classification_report(y_test_svm, y_pred_svm))"
   ]
  },
  {
   "cell_type": "markdown",
   "id": "W5u6l94Ql322",
   "metadata": {
    "id": "W5u6l94Ql322"
   },
   "source": [
    "1. True Positives (TP): Ini mengindikasikan bahwa model SVM dengan benar memprediksi 118 pasien sebagai positif (mengidap penyakit diabetes).\n",
    "\n",
    "2. False Positives (FP): Ini mengindikasikan bahwa model SVM salah memprediksi 12 pasien sebagai positif (mengidap penyakit diabetes), padahal sebenarnya mereka negatif.\n",
    "\n",
    "3. False Negatives (FN): Ini mengindikasikan bahwa model SVM salah memprediksi 27 pasien sebagai negatif (tidak mengidap penyakit diabetes), padahal sebenarnya mereka positif.  \n",
    "\n",
    "4. True Negatives (TN): Ini mengindikasikan bahwa model SVM dengan benar memprediksi 35 pasien sebagai negatif (tidak mengidap penyakit diabetes)."
   ]
  },
  {
   "cell_type": "markdown",
   "id": "zTVj3diQXQtf",
   "metadata": {
    "id": "zTVj3diQXQtf"
   },
   "source": [
    "## ROC Curve Visualization"
   ]
  },
  {
   "cell_type": "code",
   "execution_count": null,
   "id": "kKQCyL6zXUBW",
   "metadata": {
    "colab": {
     "base_uri": "https://localhost:8080/",
     "height": 564
    },
    "id": "kKQCyL6zXUBW",
    "outputId": "048cee1d-ae83-4502-bfe0-ff386a7b165b"
   },
   "outputs": [],
   "source": [
    "# Menghitung probabilitas prediksi\n",
    "y_pred_prob = svm.predict_proba(X_test_svm)[:, 1]\n",
    "\n",
    "# Menghitung ROC curve\n",
    "fpr, tpr, thresholds = roc_curve(y_test_svm, y_pred_prob)\n",
    "\n",
    "# Menghitung area di bawah kurva ROC (AUC)\n",
    "roc_auc = roc_auc_score(y_test_svm, y_pred_prob)\n",
    "\n",
    "# Membuat plot untuk ROC curve\n",
    "plt.figure(figsize=(8, 6))\n",
    "plt.plot(fpr, tpr, color='blue', lw=2, label=f'ROC curve (area = {roc_auc:.2f})')\n",
    "plt.plot([0, 1], [0, 1], color='gray', linestyle='--')\n",
    "plt.xlim([0.0, 1.0])\n",
    "plt.ylim([0.0, 1.05])\n",
    "plt.xlabel('False Positive Rate')\n",
    "plt.ylabel('True Positive Rate')\n",
    "plt.title('Receiver Operating Characteristic (ROC)')\n",
    "plt.legend(loc='lower right')\n",
    "plt.show()"
   ]
  },
  {
   "cell_type": "markdown",
   "id": "gKXyJVgDmZyh",
   "metadata": {
    "id": "gKXyJVgDmZyh"
   },
   "source": [
    "# Gaussian Naive Bayes\n",
    "\n",
    "GNB digunakan untuk mengklasifikasikan data dengan menghitung probabilitas kemungkinan kelas berdasarkan nilai fitur yang diamati. Ini adalah algoritma klasifikasi yang efisien."
   ]
  },
  {
   "cell_type": "code",
   "execution_count": null,
   "id": "SAHJHaKmnEFg",
   "metadata": {
    "colab": {
     "base_uri": "https://localhost:8080/"
    },
    "id": "SAHJHaKmnEFg",
    "outputId": "eabe78e1-01f0-44b8-ff32-738210e21ac2"
   },
   "outputs": [],
   "source": [
    "for i in range(0,2):\n",
    "    # Membuat object model naive bayes\n",
    "    gaussian_nb = GaussianNB()\n",
    "\n",
    "    X_train_nb, X_test_nb, y_train_nb, y_test_nb = X_train, X_test, y_train, y_test\n",
    "\n",
    "    gaussian_nb.fit(train_test[i], y_train_nb)\n",
    "    y_pred_nb = gaussian_nb.predict(train_test[i+2])\n",
    "\n",
    "    bnb_cvs = cross_val_score(estimator = gaussian_nb, X = train_test[i], y = y_train_nb, cv = 5)\n",
    "\n",
    "    print(\"GaussianNB Accuracy: \", accuracy_score(y_pred_nb, y_test_nb))\n",
    "\n",
    "    print(\"GaussianNB Test Score: \", gaussian_nb.score(train_test[i+2], y_test_nb))\n",
    "    print(\"GaussianNB Train Score: \", gaussian_nb.score(train_test[i], y_train_nb))\n",
    "\n",
    "    print(\"GaussianNB Cross Validation Mean: \", bnb_cvs.mean())\n",
    "    print(\"GaussianNB Cross Validation Std: \", bnb_cvs.std())\n",
    "    print(\"-------------------------------------------\")\n",
    "\n",
    "    if (i == 0):\n",
    "        result_ml_data[\"SS_Score\"][3] = accuracy_score(y_pred_nb, y_test_nb)\n",
    "    else:\n",
    "        result_ml_data[\"RS_Score\"][3] = accuracy_score(y_pred_nb, y_test_nb)"
   ]
  },
  {
   "cell_type": "markdown",
   "id": "hS6o69M5qxQX",
   "metadata": {
    "id": "hS6o69M5qxQX"
   },
   "source": [
    "## Machine Learning Models Assestment"
   ]
  },
  {
   "cell_type": "code",
   "execution_count": null,
   "id": "9kw9YJRMnJab",
   "metadata": {
    "colab": {
     "base_uri": "https://localhost:8080/",
     "height": 238
    },
    "id": "9kw9YJRMnJab",
    "outputId": "04dc5d70-1227-4087-cd1b-0b8e0c6ef0e2"
   },
   "outputs": [],
   "source": [
    "result_ml_data"
   ]
  },
  {
   "cell_type": "markdown",
   "id": "W3Lq35Qmq4La",
   "metadata": {
    "id": "W3Lq35Qmq4La"
   },
   "source": [
    "## Predicting the Test Result"
   ]
  },
  {
   "cell_type": "code",
   "execution_count": null,
   "id": "CSQsQbjnzcPB",
   "metadata": {
    "colab": {
     "base_uri": "https://localhost:8080/"
    },
    "id": "CSQsQbjnzcPB",
    "outputId": "c614b69b-e0f9-400c-9c9b-871e809b48e3"
   },
   "outputs": [],
   "source": [
    "gaussian_nb.predict(X_test_nb)"
   ]
  },
  {
   "cell_type": "markdown",
   "id": "TdwrVwcnq9_G",
   "metadata": {
    "id": "TdwrVwcnq9_G"
   },
   "source": [
    "## Visualizing Actual Values and Prediction Values with Confussion Matrix"
   ]
  },
  {
   "cell_type": "code",
   "execution_count": null,
   "id": "OZPJrt-Uq-WP",
   "metadata": {
    "colab": {
     "base_uri": "https://localhost:8080/",
     "height": 625
    },
    "id": "OZPJrt-Uq-WP",
    "outputId": "2aecbf09-649c-4458-cc75-b099120f6c23"
   },
   "outputs": [],
   "source": [
    "def plot_confussion_matrix_gnb(y_test_nb, y_pred_nb):\n",
    "  acc = round(accuracy_score(y_test_nb, y_pred_nb), 2)\n",
    "  cm = confusion_matrix(y_pred=y_pred_nb, y_true=y_test_nb)\n",
    "  sns.heatmap(cm, annot=True, fmt=\".0f\", xticklabels=[\"Positive\", \"Negative\"], yticklabels=[\"Positive\", \"Negative\"])\n",
    "  plt.xlabel(\"Prediction\")\n",
    "  plt.ylabel(\"Actual\")\n",
    "  plt.title(\"Accuracy Score: {0}\".format(acc), size=10)\n",
    "  plt.show()\n",
    "\n",
    "plot_confussion_matrix_gnb(y_test_nb, y_pred_nb)\n",
    "print(classification_report(y_test_nb, y_pred_nb))"
   ]
  },
  {
   "cell_type": "markdown",
   "id": "_fneGDGdxIeY",
   "metadata": {
    "id": "_fneGDGdxIeY"
   },
   "source": [
    "1. True Positives (TP): Ini mengindikasikan bahwa model naive bayes dengan benar memprediksi 114 pasien sebagai positif (mengidap penyakit diabetes).\n",
    "\n",
    "2. False Positives (FP): Ini mengindikasikan bahwa model naive bayes salah memprediksi 16 pasien sebagai positif (mengidap penyakit diabetes), padahal sebenarnya mereka negatif.\n",
    "\n",
    "3. False Negatives (FN): Ini mengindikasikan bahwa model naive bayes salah memprediksi 29 pasien sebagai negatif (tidak mengidap penyakit diabetes), padahal sebenarnya mereka positif.  \n",
    "\n",
    "4. True Negatives (TN): Ini mengindikasikan bahwa model naive bayes dengan benar memprediksi 33 pasien sebagai negatif (tidak mengidap penyakit diabetes)."
   ]
  },
  {
   "cell_type": "markdown",
   "id": "1sbq3nzvXhp1",
   "metadata": {
    "id": "1sbq3nzvXhp1"
   },
   "source": [
    "## ROC Curve Visualization"
   ]
  },
  {
   "cell_type": "code",
   "execution_count": null,
   "id": "7aLEtLr8XhLx",
   "metadata": {
    "colab": {
     "base_uri": "https://localhost:8080/",
     "height": 564
    },
    "id": "7aLEtLr8XhLx",
    "outputId": "fa4edcb5-3130-424c-b7e0-c939b97b0d3f"
   },
   "outputs": [],
   "source": [
    "# Menghitung probabilitas prediksi\n",
    "y_pred_prob = gaussian_nb.predict_proba(X_test_nb)[:, 1]\n",
    "\n",
    "# Menghitung ROC curve\n",
    "fpr, tpr, thresholds = roc_curve(y_test_nb, y_pred_prob)\n",
    "\n",
    "# Menghitung area di bawah kurva ROC (AUC)\n",
    "roc_auc = roc_auc_score(y_test_nb, y_pred_prob)\n",
    "\n",
    "# Membuat plot untuk ROC curve\n",
    "plt.figure(figsize=(8, 6))\n",
    "plt.plot(fpr, tpr, color='blue', lw=2, label=f'ROC curve (area = {roc_auc:.2f})')\n",
    "plt.plot([0, 1], [0, 1], color='gray', linestyle='--')\n",
    "plt.xlim([0.0, 1.0])\n",
    "plt.ylim([0.0, 1.05])\n",
    "plt.xlabel('False Positive Rate')\n",
    "plt.ylabel('True Positive Rate')\n",
    "plt.title('Receiver Operating Characteristic (ROC)')\n",
    "plt.legend(loc='lower right')\n",
    "plt.show()"
   ]
  },
  {
   "cell_type": "markdown",
   "id": "tB3DOwFLxldg",
   "metadata": {
    "id": "tB3DOwFLxldg"
   },
   "source": [
    "#Decision Tree Classification\n",
    "\n",
    "Pohon Keputusan adalah algoritma yang membuat keputusan berdasarkan serangkaian pertanyaan. Ini mirip dengan bermain tebakan di mana setiap pertanyaan membantu kita mencapai keputusan akhir. Contohnya, dalam masalah klasifikasi, pohon keputusan dapat bertanya, \"Apakah pasien memiliki demam?\" Jika jawabannya \"Ya,\" pohon akan mengarahkan ke pertanyaan berikutnya, dan seterusnya, hingga mencapai prediksi akhir seperti \"Pasien memiliki flu.\" Pohon ini membantu kita memahami bagaimana keputusan dibuat dari data."
   ]
  },
  {
   "cell_type": "code",
   "execution_count": null,
   "id": "-vnFfGLCyLm5",
   "metadata": {
    "colab": {
     "base_uri": "https://localhost:8080/"
    },
    "id": "-vnFfGLCyLm5",
    "outputId": "ee14e96e-e18d-4fdd-8884-87500b4cc934"
   },
   "outputs": [],
   "source": [
    "for i in range(0,2):\n",
    "    # Membuat object model decision tree\n",
    "    dtc = DecisionTreeClassifier()\n",
    "    X_train_dtc, X_test_dtc, y_train_dtc, y_test_dtc = X_train, X_test, y_train, y_test\n",
    "\n",
    "    dtc.fit(X_train_dtc, y_train_dtc)\n",
    "\n",
    "    dtc_params = {\"criterion\" : [\"gini\", \"entropy\",\"log_loss\"], \"splitter\" : [\"best\", \"random\"], \"max_features\" : [\"auto\", \"sqrt\", \"log2\"]}\n",
    "\n",
    "    grid_dtc = GridSearchCV(estimator = dtc, param_grid = dtc_params, scoring = \"accuracy\", cv = 4)\n",
    "    grid_dtc_search = grid_dtc.fit(train_test[i], y_train_dtc)\n",
    "    y_pred_dtc = grid_dtc.predict(train_test[i+2])\n",
    "\n",
    "    best_param_grid_dtc = grid_dtc_search.best_params_\n",
    "    best_score_grid_dtc = grid_dtc_search.best_score_\n",
    "\n",
    "    print(\"Best prameter of gridsearch function: \", best_param_grid_dtc)\n",
    "    print(\"Best score of gridsearch function: \",best_score_grid_dtc)\n",
    "\n",
    "    if (i == 0):\n",
    "        result_ml_data[\"SS_Score\"][4] = accuracy_score(y_pred_dtc, y_test_dtc)\n",
    "    else:\n",
    "        result_ml_data[\"RS_Score\"][4] = accuracy_score(y_pred_dtc, y_test_dtc)"
   ]
  },
  {
   "cell_type": "markdown",
   "id": "evGeB9Vmyw23",
   "metadata": {
    "id": "evGeB9Vmyw23"
   },
   "source": [
    "## Machine Learning Models Assestment"
   ]
  },
  {
   "cell_type": "code",
   "execution_count": null,
   "id": "zm2TujjAyq0a",
   "metadata": {
    "colab": {
     "base_uri": "https://localhost:8080/",
     "height": 238
    },
    "id": "zm2TujjAyq0a",
    "outputId": "4886af13-f194-415a-eefd-5ab22e9decce"
   },
   "outputs": [],
   "source": [
    "result_ml_data"
   ]
  },
  {
   "cell_type": "markdown",
   "id": "vCe974afzWCY",
   "metadata": {
    "id": "vCe974afzWCY"
   },
   "source": [
    "## Predicting the Test Result"
   ]
  },
  {
   "cell_type": "code",
   "execution_count": null,
   "id": "qv1uM63YyyoK",
   "metadata": {
    "colab": {
     "base_uri": "https://localhost:8080/"
    },
    "id": "qv1uM63YyyoK",
    "outputId": "7cdef43a-e29c-4e59-e7e4-5a51ebff53e6"
   },
   "outputs": [],
   "source": [
    "dtc.predict(X_test_dtc)"
   ]
  },
  {
   "cell_type": "markdown",
   "id": "f95cIbzXz9AK",
   "metadata": {
    "id": "f95cIbzXz9AK"
   },
   "source": [
    "## Visualizing Actual Values and Prediction Values with Confussion Matrix"
   ]
  },
  {
   "cell_type": "code",
   "execution_count": null,
   "id": "zXWQZAZjz7A8",
   "metadata": {
    "colab": {
     "base_uri": "https://localhost:8080/",
     "height": 625
    },
    "id": "zXWQZAZjz7A8",
    "outputId": "bf1c3f69-ae5f-4084-fa6f-aaca2f3cf8c0"
   },
   "outputs": [],
   "source": [
    "def plot_confussion_matrix_dtc(y_test_dtc, y_pred_dtc):\n",
    "  acc = round(accuracy_score(y_test_dtc, y_pred_dtc), 2)\n",
    "  cm = confusion_matrix(y_test_dtc, y_pred_dtc)\n",
    "  sns.heatmap(cm, annot=True, fmt=\".0f\", xticklabels=[\"Positive\", \"Negative\"], yticklabels=[\"Positive\", \"Negative\"])\n",
    "  plt.xlabel(\"Prediction\")\n",
    "  plt.ylabel(\"Actual\")\n",
    "  plt.title(\"Accuracy Score: {0}\".format(acc), size=10)\n",
    "  plt.show()\n",
    "\n",
    "plot_confussion_matrix_dtc(y_test_dtc, y_pred_dtc)\n",
    "print(classification_report(y_test_dtc, y_pred_dtc))"
   ]
  },
  {
   "cell_type": "markdown",
   "id": "1x7_FxMw0LrH",
   "metadata": {
    "id": "1x7_FxMw0LrH"
   },
   "source": [
    "1. True Positives (TP): Ini mengindikasikan bahwa model DT dengan benar memprediksi 97 pasien sebagai positif (mengidap penyakit diabetes).\n",
    "\n",
    "2. False Positives (FP): Ini mengindikasikan bahwa model DT salah memprediksi 33 pasien sebagai positif (mengidap penyakit diabetes), padahal sebenarnya mereka negatif.\n",
    "\n",
    "3. False Negatives (FN): Ini mengindikasikan bahwa model DT salah memprediksi 20 pasien sebagai negatif (tidak mengidap penyakit diabetes), padahal sebenarnya mereka positif.  \n",
    "\n",
    "4. True Negatives (TN): Ini mengindikasikan bahwa model DT dengan benar memprediksi 42 pasien sebagai negatif (tidak mengidap penyakit diabetes)."
   ]
  },
  {
   "cell_type": "markdown",
   "id": "zaa-2e2EaAOL",
   "metadata": {
    "id": "zaa-2e2EaAOL"
   },
   "source": [
    "## ROC Curve Visualization"
   ]
  },
  {
   "cell_type": "code",
   "execution_count": null,
   "id": "OykUSMk1aAv6",
   "metadata": {
    "colab": {
     "base_uri": "https://localhost:8080/",
     "height": 564
    },
    "id": "OykUSMk1aAv6",
    "outputId": "27d2ae53-e377-4c3d-efaa-84734f7d6f40"
   },
   "outputs": [],
   "source": [
    "# Menghitung probabilitas prediksi\n",
    "y_pred_prob = dtc.predict_proba(X_test_dtc)[:, 1]\n",
    "\n",
    "# Menghitung ROC curve\n",
    "fpr, tpr, thresholds = roc_curve(y_test_dtc, y_pred_prob)\n",
    "\n",
    "# Menghitung area di bawah kurva ROC (AUC)\n",
    "roc_auc = roc_auc_score(y_test_dtc, y_pred_prob)\n",
    "\n",
    "# Membuat plot untuk ROC curve\n",
    "plt.figure(figsize=(8, 6))\n",
    "plt.plot(fpr, tpr, color='blue', lw=2, label=f'ROC curve (area = {roc_auc:.2f})')\n",
    "plt.plot([0, 1], [0, 1], color='gray', linestyle='--')\n",
    "plt.xlim([0.0, 1.0])\n",
    "plt.ylim([0.0, 1.05])\n",
    "plt.xlabel('False Positive Rate')\n",
    "plt.ylabel('True Positive Rate')\n",
    "plt.title('Receiver Operating Characteristic (ROC)')\n",
    "plt.legend(loc='lower right')\n",
    "plt.show()"
   ]
  },
  {
   "cell_type": "markdown",
   "id": "xARgMrTuGlN9",
   "metadata": {
    "id": "xARgMrTuGlN9"
   },
   "source": [
    "# Random Forest Classification\n",
    "\n",
    "Random Forest adalah algoritma machine learning yang memadukan banyak pohon keputusan untuk menghasilkan prediksi yang lebih akurat. Ini seperti mengumpulkan banyak pandangan berbeda untuk membuat keputusan yang lebih baik. Daripada mengandalkan satu pohon keputusan, Random Forest menggunakan \"hutan\" berisi banyak pohon yang secara kolektif memberikan hasil yang lebih andal. Ini membantu mengatasi overfitting dan meningkatkan kinerja model."
   ]
  },
  {
   "cell_type": "code",
   "execution_count": null,
   "id": "QI9gFeUEIW_n",
   "metadata": {
    "colab": {
     "base_uri": "https://localhost:8080/"
    },
    "id": "QI9gFeUEIW_n",
    "outputId": "46a2ea1e-7d2a-4460-ef91-e904810784dd"
   },
   "outputs": [],
   "source": [
    "for i in range(0,2):\n",
    "\n",
    "    # Membuat object model random forest classification\n",
    "\n",
    "    rfc = RandomForestClassifier()\n",
    "    X_train_rfc, X_test_rfc, y_train_rfc, y_test_rfc = X_train, X_test, y_train, y_test\n",
    "\n",
    "    rfc.fit(X_train_rfc, y_train_rfc)\n",
    "\n",
    "    param_rfc = {\"n_estimators\" : range(1,50), \"criterion\" : [\"gini\", \"entropy\",\"log_loss\"], \"max_features\" : [\"sqrt\",\"log2\", None],\n",
    "             \"class_weight\" : [\"balanced\", \"balanced_subsample\"]}\n",
    "\n",
    "    grid_rfc = GridSearchCV(estimator = rfc, param_grid = param_rfc, scoring = \"accuracy\", cv = 4)\n",
    "    grid_rfc_search = grid_rfc.fit(train_test[i], y_train_rfc)\n",
    "    y_pred_rfc = grid_rfc.predict(train_test[i+2])\n",
    "\n",
    "    best_parm_grid_rfc = grid_rfc_search.best_params_\n",
    "    best_score_grid_rfc = grid_rfc_search.best_score_\n",
    "\n",
    "    print(\"Best prameter of gridsearch function: \", best_parm_grid_rfc)\n",
    "    print(\"Best score of gridsearch function: \",best_score_grid_rfc)\n",
    "\n",
    "    if (i == 0):\n",
    "        result_ml_data[\"SS_Score\"][5] = accuracy_score(y_pred_rfc, y_test_rfc)\n",
    "    else:\n",
    "        result_ml_data[\"RS_Score\"][5] = accuracy_score(y_pred_rfc, y_test_rfc)"
   ]
  },
  {
   "cell_type": "markdown",
   "id": "KRuipPR0GtcV",
   "metadata": {
    "id": "KRuipPR0GtcV"
   },
   "source": [
    "## Machine Learning Models Assestment"
   ]
  },
  {
   "cell_type": "code",
   "execution_count": null,
   "id": "4AQCfbZcJDOA",
   "metadata": {
    "colab": {
     "base_uri": "https://localhost:8080/",
     "height": 238
    },
    "id": "4AQCfbZcJDOA",
    "outputId": "39df8842-6d37-499b-c235-22f1f99517e8"
   },
   "outputs": [],
   "source": [
    "result_ml_data"
   ]
  },
  {
   "cell_type": "markdown",
   "id": "JwgjIgwRGxfd",
   "metadata": {
    "id": "JwgjIgwRGxfd"
   },
   "source": [
    "## Predicting the Test Result"
   ]
  },
  {
   "cell_type": "code",
   "execution_count": null,
   "id": "03wUiPaz_lJc",
   "metadata": {
    "colab": {
     "base_uri": "https://localhost:8080/"
    },
    "id": "03wUiPaz_lJc",
    "outputId": "669cadaa-4485-46eb-8a3a-7a1dd9d33b83"
   },
   "outputs": [],
   "source": [
    "rfc.predict(X_test_rfc)"
   ]
  },
  {
   "cell_type": "markdown",
   "id": "mcZ7D6vEG3s1",
   "metadata": {
    "id": "mcZ7D6vEG3s1"
   },
   "source": [
    "## Visualizing Actual Values and Prediction Values with Confussion Matrix"
   ]
  },
  {
   "cell_type": "code",
   "execution_count": null,
   "id": "v-Hog9SlM943",
   "metadata": {
    "colab": {
     "base_uri": "https://localhost:8080/",
     "height": 625
    },
    "id": "v-Hog9SlM943",
    "outputId": "385d34c7-c0e3-4e66-97be-6abcc755c1d0"
   },
   "outputs": [],
   "source": [
    "def plot_confussion_matrix_rfc(y_test_rfc, y_pred_rfc):\n",
    "  acc = round(accuracy_score(y_test_rfc, y_pred_rfc), 2)\n",
    "  cm = confusion_matrix(y_pred=y_pred_rfc, y_true=y_test_rfc)\n",
    "  sns.heatmap(cm, annot=True, fmt=\".0f\", xticklabels=[\"Positive\", \"Negative\"], yticklabels=[\"Positive\", \"Negative\"])\n",
    "  plt.xlabel(\"Prediction\")\n",
    "  plt.ylabel(\"Actual\")\n",
    "  plt.title(\"Accuracy Score: {0}\".format(acc), size=10)\n",
    "  plt.show()\n",
    "\n",
    "plot_confussion_matrix_dtc(y_test_rfc, y_pred_rfc)\n",
    "print(classification_report(y_test_rfc, y_pred_rfc))"
   ]
  },
  {
   "cell_type": "markdown",
   "id": "DELWpLDg0ZKG",
   "metadata": {
    "id": "DELWpLDg0ZKG"
   },
   "source": [
    "1. True Positives (TP): Ini mengindikasikan bahwa model RF dengan benar memprediksi 115 pasien sebagai positif (mengidap penyakit diabetes).\n",
    "\n",
    "2. False Positives (FP): Ini mengindikasikan bahwa model RF salah memprediksi 15 pasien sebagai positif (mengidap penyakit diabetes), padahal sebenarnya mereka negatif.\n",
    "\n",
    "3. False Negatives (FN): Ini mengindikasikan bahwa model RF salah memprediksi 23 pasien sebagai negatif (tidak mengidap penyakit diabetes), padahal sebenarnya mereka positif.  \n",
    "\n",
    "4. True Negatives (TN): Ini mengindikasikan bahwa model RF dengan benar memprediksi 39 pasien sebagai negatif (tidak mengidap penyakit diabetes)."
   ]
  },
  {
   "cell_type": "markdown",
   "id": "D20zzL81acmz",
   "metadata": {
    "id": "D20zzL81acmz"
   },
   "source": [
    "## ROC Curve Visualization"
   ]
  },
  {
   "cell_type": "code",
   "execution_count": null,
   "id": "hI1K9rkBaUEi",
   "metadata": {
    "colab": {
     "base_uri": "https://localhost:8080/",
     "height": 564
    },
    "id": "hI1K9rkBaUEi",
    "outputId": "f06f5678-972a-4048-f998-ae6b9e551858"
   },
   "outputs": [],
   "source": [
    "# Menghitung probabilitas prediksi\n",
    "y_pred_prob = rfc.predict_proba(X_test_rfc)[:, 1]\n",
    "\n",
    "# Menghitung ROC curve\n",
    "fpr, tpr, thresholds = roc_curve(y_test_rfc, y_pred_prob)\n",
    "\n",
    "# Menghitung area di bawah kurva ROC (AUC)\n",
    "roc_auc = roc_auc_score(y_test_rfc, y_pred_prob)\n",
    "\n",
    "# Membuat plot untuk ROC curve\n",
    "plt.figure(figsize=(8, 6))\n",
    "plt.plot(fpr, tpr, color='blue', lw=2, label=f'ROC curve (area = {roc_auc:.2f})')\n",
    "plt.plot([0, 1], [0, 1], color='gray', linestyle='--')\n",
    "plt.xlim([0.0, 1.0])\n",
    "plt.ylim([0.0, 1.05])\n",
    "plt.xlabel('False Positive Rate')\n",
    "plt.ylabel('True Positive Rate')\n",
    "plt.title('Receiver Operating Characteristic (ROC)')\n",
    "plt.legend(loc='lower right')\n",
    "plt.show()"
   ]
  },
  {
   "cell_type": "markdown",
   "id": "48aaEZ8ZJ8rf",
   "metadata": {
    "id": "48aaEZ8ZJ8rf"
   },
   "source": [
    "## Visualizing Result with Standart Scaler"
   ]
  },
  {
   "cell_type": "code",
   "execution_count": null,
   "id": "PMQXW1N2KCyd",
   "metadata": {
    "colab": {
     "base_uri": "https://localhost:8080/",
     "height": 658
    },
    "id": "PMQXW1N2KCyd",
    "outputId": "9183d493-0c90-4d72-a3bc-dee609ab845c"
   },
   "outputs": [],
   "source": [
    "plt.figure(figsize=(10,7))\n",
    "sns.barplot(x=result_ml_data[\"Model_Name\"], y=result_ml_data[\"SS_Score\"])\n",
    "plt.xticks(rotation=0)\n",
    "plt.xlabel(\"Model_Name\")\n",
    "plt.ylabel(\"SS_Score\")\n",
    "plt.title(\"Result with Standart Scaler\")"
   ]
  },
  {
   "cell_type": "markdown",
   "id": "j-djMFL_KHiv",
   "metadata": {
    "id": "j-djMFL_KHiv"
   },
   "source": [
    "## Visualizing Result with Robust Scaller"
   ]
  },
  {
   "cell_type": "code",
   "execution_count": null,
   "id": "KkOGwhhQKIsP",
   "metadata": {
    "colab": {
     "base_uri": "https://localhost:8080/",
     "height": 658
    },
    "id": "KkOGwhhQKIsP",
    "outputId": "4a4bfd6d-889c-4f14-886f-4904920554ea"
   },
   "outputs": [],
   "source": [
    "plt.figure(figsize=(10,7))\n",
    "sns.barplot(x=result_ml_data[\"Model_Name\"], y=result_ml_data[\"RS_Score\"])\n",
    "plt.xticks(rotation=0)\n",
    "plt.xlabel(\"Model_Name\")\n",
    "plt.ylabel(\"RS_Score\")\n",
    "plt.title(\"Result with Robust Scaler\")"
   ]
  }
 ],
 "metadata": {
  "colab": {
   "provenance": []
  },
  "kernelspec": {
   "display_name": "Python 3 (ipykernel)",
   "language": "python",
   "name": "python3"
  },
  "language_info": {
   "codemirror_mode": {
    "name": "ipython",
    "version": 3
   },
   "file_extension": ".py",
   "mimetype": "text/x-python",
   "name": "python",
   "nbconvert_exporter": "python",
   "pygments_lexer": "ipython3",
   "version": "3.10.9"
  },
  "toc-autonumbering": true,
  "toc-showcode": false
 },
 "nbformat": 4,
 "nbformat_minor": 5
}
